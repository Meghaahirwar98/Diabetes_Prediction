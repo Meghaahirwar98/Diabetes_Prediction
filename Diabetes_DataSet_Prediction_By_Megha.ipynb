{
  "nbformat": 4,
  "nbformat_minor": 0,
  "metadata": {
    "colab": {
      "name": "Diabetes_DataSet_Prediction_By_Megha.ipynb",
      "provenance": [],
      "collapsed_sections": []
    },
    "kernelspec": {
      "name": "python3",
      "display_name": "Python 3"
    },
    "language_info": {
      "name": "python"
    }
  },
  "cells": [
    {
      "cell_type": "markdown",
      "source": [
        "# **Predict the dataset of diabetes based on diagnostic measures:**"
      ],
      "metadata": {
        "id": "GgQOtBNLm9fo"
      }
    },
    {
      "cell_type": "code",
      "execution_count": null,
      "metadata": {
        "id": "pUF1tk_Zcv9q"
      },
      "outputs": [],
      "source": [
        "#importing Libraries\n",
        "\n",
        "import pandas as pd\n",
        "import numpy as np\n",
        "import matplotlib.pyplot as plt"
      ]
    },
    {
      "cell_type": "markdown",
      "source": [
        "# **Uploading DataSet and PreProcessing**"
      ],
      "metadata": {
        "id": "blBubsyGnavC"
      }
    },
    {
      "cell_type": "code",
      "source": [
        "#Read the DataSet\n",
        "df=pd.read_csv('/content/diabetes.csv')"
      ],
      "metadata": {
        "id": "AUT9_Sc4gmv0"
      },
      "execution_count": null,
      "outputs": []
    },
    {
      "cell_type": "code",
      "source": [
        "df.head()\n"
      ],
      "metadata": {
        "colab": {
          "base_uri": "https://localhost:8080/",
          "height": 206
        },
        "id": "8CKFeI-Cg3Up",
        "outputId": "1f184914-9802-4059-c799-ec7453e86506"
      },
      "execution_count": null,
      "outputs": [
        {
          "output_type": "execute_result",
          "data": {
            "text/plain": [
              "   pregnancies  glucose  bloodpressure  skinthickness  insulin   bmi  \\\n",
              "0            6      148             72             35        0  33.6   \n",
              "1            1       85             66             29        0  26.6   \n",
              "2            8      183             64              0        0  23.3   \n",
              "3            1       89             66             23       94  28.1   \n",
              "4            0      137             40             35      168  43.1   \n",
              "\n",
              "   diabetespedigreefunction  age  outcome  \n",
              "0                     0.627   50     True  \n",
              "1                     0.351   31    False  \n",
              "2                     0.672   32     True  \n",
              "3                     0.167   21    False  \n",
              "4                     2.288   33     True  "
            ],
            "text/html": [
              "\n",
              "  <div id=\"df-bd9a4a0a-5abd-4804-9f9c-8abae9fb6edf\">\n",
              "    <div class=\"colab-df-container\">\n",
              "      <div>\n",
              "<style scoped>\n",
              "    .dataframe tbody tr th:only-of-type {\n",
              "        vertical-align: middle;\n",
              "    }\n",
              "\n",
              "    .dataframe tbody tr th {\n",
              "        vertical-align: top;\n",
              "    }\n",
              "\n",
              "    .dataframe thead th {\n",
              "        text-align: right;\n",
              "    }\n",
              "</style>\n",
              "<table border=\"1\" class=\"dataframe\">\n",
              "  <thead>\n",
              "    <tr style=\"text-align: right;\">\n",
              "      <th></th>\n",
              "      <th>pregnancies</th>\n",
              "      <th>glucose</th>\n",
              "      <th>bloodpressure</th>\n",
              "      <th>skinthickness</th>\n",
              "      <th>insulin</th>\n",
              "      <th>bmi</th>\n",
              "      <th>diabetespedigreefunction</th>\n",
              "      <th>age</th>\n",
              "      <th>outcome</th>\n",
              "    </tr>\n",
              "  </thead>\n",
              "  <tbody>\n",
              "    <tr>\n",
              "      <th>0</th>\n",
              "      <td>6</td>\n",
              "      <td>148</td>\n",
              "      <td>72</td>\n",
              "      <td>35</td>\n",
              "      <td>0</td>\n",
              "      <td>33.6</td>\n",
              "      <td>0.627</td>\n",
              "      <td>50</td>\n",
              "      <td>True</td>\n",
              "    </tr>\n",
              "    <tr>\n",
              "      <th>1</th>\n",
              "      <td>1</td>\n",
              "      <td>85</td>\n",
              "      <td>66</td>\n",
              "      <td>29</td>\n",
              "      <td>0</td>\n",
              "      <td>26.6</td>\n",
              "      <td>0.351</td>\n",
              "      <td>31</td>\n",
              "      <td>False</td>\n",
              "    </tr>\n",
              "    <tr>\n",
              "      <th>2</th>\n",
              "      <td>8</td>\n",
              "      <td>183</td>\n",
              "      <td>64</td>\n",
              "      <td>0</td>\n",
              "      <td>0</td>\n",
              "      <td>23.3</td>\n",
              "      <td>0.672</td>\n",
              "      <td>32</td>\n",
              "      <td>True</td>\n",
              "    </tr>\n",
              "    <tr>\n",
              "      <th>3</th>\n",
              "      <td>1</td>\n",
              "      <td>89</td>\n",
              "      <td>66</td>\n",
              "      <td>23</td>\n",
              "      <td>94</td>\n",
              "      <td>28.1</td>\n",
              "      <td>0.167</td>\n",
              "      <td>21</td>\n",
              "      <td>False</td>\n",
              "    </tr>\n",
              "    <tr>\n",
              "      <th>4</th>\n",
              "      <td>0</td>\n",
              "      <td>137</td>\n",
              "      <td>40</td>\n",
              "      <td>35</td>\n",
              "      <td>168</td>\n",
              "      <td>43.1</td>\n",
              "      <td>2.288</td>\n",
              "      <td>33</td>\n",
              "      <td>True</td>\n",
              "    </tr>\n",
              "  </tbody>\n",
              "</table>\n",
              "</div>\n",
              "      <button class=\"colab-df-convert\" onclick=\"convertToInteractive('df-bd9a4a0a-5abd-4804-9f9c-8abae9fb6edf')\"\n",
              "              title=\"Convert this dataframe to an interactive table.\"\n",
              "              style=\"display:none;\">\n",
              "        \n",
              "  <svg xmlns=\"http://www.w3.org/2000/svg\" height=\"24px\"viewBox=\"0 0 24 24\"\n",
              "       width=\"24px\">\n",
              "    <path d=\"M0 0h24v24H0V0z\" fill=\"none\"/>\n",
              "    <path d=\"M18.56 5.44l.94 2.06.94-2.06 2.06-.94-2.06-.94-.94-2.06-.94 2.06-2.06.94zm-11 1L8.5 8.5l.94-2.06 2.06-.94-2.06-.94L8.5 2.5l-.94 2.06-2.06.94zm10 10l.94 2.06.94-2.06 2.06-.94-2.06-.94-.94-2.06-.94 2.06-2.06.94z\"/><path d=\"M17.41 7.96l-1.37-1.37c-.4-.4-.92-.59-1.43-.59-.52 0-1.04.2-1.43.59L10.3 9.45l-7.72 7.72c-.78.78-.78 2.05 0 2.83L4 21.41c.39.39.9.59 1.41.59.51 0 1.02-.2 1.41-.59l7.78-7.78 2.81-2.81c.8-.78.8-2.07 0-2.86zM5.41 20L4 18.59l7.72-7.72 1.47 1.35L5.41 20z\"/>\n",
              "  </svg>\n",
              "      </button>\n",
              "      \n",
              "  <style>\n",
              "    .colab-df-container {\n",
              "      display:flex;\n",
              "      flex-wrap:wrap;\n",
              "      gap: 12px;\n",
              "    }\n",
              "\n",
              "    .colab-df-convert {\n",
              "      background-color: #E8F0FE;\n",
              "      border: none;\n",
              "      border-radius: 50%;\n",
              "      cursor: pointer;\n",
              "      display: none;\n",
              "      fill: #1967D2;\n",
              "      height: 32px;\n",
              "      padding: 0 0 0 0;\n",
              "      width: 32px;\n",
              "    }\n",
              "\n",
              "    .colab-df-convert:hover {\n",
              "      background-color: #E2EBFA;\n",
              "      box-shadow: 0px 1px 2px rgba(60, 64, 67, 0.3), 0px 1px 3px 1px rgba(60, 64, 67, 0.15);\n",
              "      fill: #174EA6;\n",
              "    }\n",
              "\n",
              "    [theme=dark] .colab-df-convert {\n",
              "      background-color: #3B4455;\n",
              "      fill: #D2E3FC;\n",
              "    }\n",
              "\n",
              "    [theme=dark] .colab-df-convert:hover {\n",
              "      background-color: #434B5C;\n",
              "      box-shadow: 0px 1px 3px 1px rgba(0, 0, 0, 0.15);\n",
              "      filter: drop-shadow(0px 1px 2px rgba(0, 0, 0, 0.3));\n",
              "      fill: #FFFFFF;\n",
              "    }\n",
              "  </style>\n",
              "\n",
              "      <script>\n",
              "        const buttonEl =\n",
              "          document.querySelector('#df-bd9a4a0a-5abd-4804-9f9c-8abae9fb6edf button.colab-df-convert');\n",
              "        buttonEl.style.display =\n",
              "          google.colab.kernel.accessAllowed ? 'block' : 'none';\n",
              "\n",
              "        async function convertToInteractive(key) {\n",
              "          const element = document.querySelector('#df-bd9a4a0a-5abd-4804-9f9c-8abae9fb6edf');\n",
              "          const dataTable =\n",
              "            await google.colab.kernel.invokeFunction('convertToInteractive',\n",
              "                                                     [key], {});\n",
              "          if (!dataTable) return;\n",
              "\n",
              "          const docLinkHtml = 'Like what you see? Visit the ' +\n",
              "            '<a target=\"_blank\" href=https://colab.research.google.com/notebooks/data_table.ipynb>data table notebook</a>'\n",
              "            + ' to learn more about interactive tables.';\n",
              "          element.innerHTML = '';\n",
              "          dataTable['output_type'] = 'display_data';\n",
              "          await google.colab.output.renderOutput(dataTable, element);\n",
              "          const docLink = document.createElement('div');\n",
              "          docLink.innerHTML = docLinkHtml;\n",
              "          element.appendChild(docLink);\n",
              "        }\n",
              "      </script>\n",
              "    </div>\n",
              "  </div>\n",
              "  "
            ]
          },
          "metadata": {},
          "execution_count": 21
        }
      ]
    },
    {
      "cell_type": "code",
      "source": [
        "df.shape"
      ],
      "metadata": {
        "colab": {
          "base_uri": "https://localhost:8080/"
        },
        "id": "QpKGKHb5g9pF",
        "outputId": "240a8944-f33a-4e41-91dd-e3e1102d809c"
      },
      "execution_count": null,
      "outputs": [
        {
          "output_type": "execute_result",
          "data": {
            "text/plain": [
              "(768, 9)"
            ]
          },
          "metadata": {},
          "execution_count": 22
        }
      ]
    },
    {
      "cell_type": "code",
      "source": [
        "df.info()"
      ],
      "metadata": {
        "colab": {
          "base_uri": "https://localhost:8080/"
        },
        "id": "XnVgUBKbhZzy",
        "outputId": "a65be6fc-9c8f-47ca-9181-62df05e8a812"
      },
      "execution_count": null,
      "outputs": [
        {
          "output_type": "stream",
          "name": "stdout",
          "text": [
            "<class 'pandas.core.frame.DataFrame'>\n",
            "RangeIndex: 768 entries, 0 to 767\n",
            "Data columns (total 9 columns):\n",
            " #   Column                    Non-Null Count  Dtype  \n",
            "---  ------                    --------------  -----  \n",
            " 0   pregnancies               768 non-null    int64  \n",
            " 1   glucose                   768 non-null    int64  \n",
            " 2   bloodpressure             768 non-null    int64  \n",
            " 3   skinthickness             768 non-null    int64  \n",
            " 4   insulin                   768 non-null    int64  \n",
            " 5   bmi                       768 non-null    float64\n",
            " 6   diabetespedigreefunction  768 non-null    float64\n",
            " 7   age                       768 non-null    int64  \n",
            " 8   outcome                   768 non-null    bool   \n",
            "dtypes: bool(1), float64(2), int64(6)\n",
            "memory usage: 48.9 KB\n"
          ]
        }
      ]
    },
    {
      "cell_type": "code",
      "source": [
        "df.isnull().sum()"
      ],
      "metadata": {
        "colab": {
          "base_uri": "https://localhost:8080/"
        },
        "id": "HLoNnNfbhb_q",
        "outputId": "b046b277-a6ea-4fc7-fa2b-cd4327a9a2dc"
      },
      "execution_count": null,
      "outputs": [
        {
          "output_type": "execute_result",
          "data": {
            "text/plain": [
              "pregnancies                 0\n",
              "glucose                     0\n",
              "bloodpressure               0\n",
              "skinthickness               0\n",
              "insulin                     0\n",
              "bmi                         0\n",
              "diabetespedigreefunction    0\n",
              "age                         0\n",
              "outcome                     0\n",
              "dtype: int64"
            ]
          },
          "metadata": {},
          "execution_count": 24
        }
      ]
    },
    {
      "cell_type": "code",
      "source": [
        "# converting bool to int \n",
        "df['outcome'].replace({False: 0, True: 1}, inplace=True)"
      ],
      "metadata": {
        "id": "ULN-eqIrh_tg"
      },
      "execution_count": null,
      "outputs": []
    },
    {
      "cell_type": "code",
      "source": [
        "df.info()"
      ],
      "metadata": {
        "colab": {
          "base_uri": "https://localhost:8080/"
        },
        "id": "3Mf5971tizht",
        "outputId": "1ef3c12f-3c79-4595-ec22-a4c662d173a6"
      },
      "execution_count": null,
      "outputs": [
        {
          "output_type": "stream",
          "name": "stdout",
          "text": [
            "<class 'pandas.core.frame.DataFrame'>\n",
            "RangeIndex: 768 entries, 0 to 767\n",
            "Data columns (total 9 columns):\n",
            " #   Column                    Non-Null Count  Dtype  \n",
            "---  ------                    --------------  -----  \n",
            " 0   pregnancies               768 non-null    int64  \n",
            " 1   glucose                   768 non-null    int64  \n",
            " 2   bloodpressure             768 non-null    int64  \n",
            " 3   skinthickness             768 non-null    int64  \n",
            " 4   insulin                   768 non-null    int64  \n",
            " 5   bmi                       768 non-null    float64\n",
            " 6   diabetespedigreefunction  768 non-null    float64\n",
            " 7   age                       768 non-null    int64  \n",
            " 8   outcome                   768 non-null    int64  \n",
            "dtypes: float64(2), int64(7)\n",
            "memory usage: 54.1 KB\n"
          ]
        }
      ]
    },
    {
      "cell_type": "code",
      "source": [
        "# Total number of columns in the dataset\n",
        "df.columns"
      ],
      "metadata": {
        "colab": {
          "base_uri": "https://localhost:8080/"
        },
        "id": "y2-_pyRui067",
        "outputId": "e37fee9d-d95b-4507-ec38-4f8f2f0a5183"
      },
      "execution_count": null,
      "outputs": [
        {
          "output_type": "execute_result",
          "data": {
            "text/plain": [
              "Index(['pregnancies', 'glucose', 'bloodpressure', 'skinthickness', 'insulin',\n",
              "       'bmi', 'diabetespedigreefunction', 'age', 'outcome'],\n",
              "      dtype='object')"
            ]
          },
          "metadata": {},
          "execution_count": 27
        }
      ]
    },
    {
      "cell_type": "markdown",
      "source": [
        "# **Data Analysis....**"
      ],
      "metadata": {
        "id": "niQ2A38FsI-B"
      }
    },
    {
      "cell_type": "code",
      "source": [
        "# To know more about the dataset\n",
        "df.describe()"
      ],
      "metadata": {
        "colab": {
          "base_uri": "https://localhost:8080/",
          "height": 300
        },
        "id": "Rn7LaR2qle85",
        "outputId": "1c4e1e6c-55ee-4a76-e175-7527f179efaa"
      },
      "execution_count": null,
      "outputs": [
        {
          "output_type": "execute_result",
          "data": {
            "text/plain": [
              "       pregnancies     glucose  bloodpressure  skinthickness     insulin  \\\n",
              "count   768.000000  768.000000     768.000000     768.000000  768.000000   \n",
              "mean      3.845052  120.894531      69.105469      20.536458   79.799479   \n",
              "std       3.369578   31.972618      19.355807      15.952218  115.244002   \n",
              "min       0.000000    0.000000       0.000000       0.000000    0.000000   \n",
              "25%       1.000000   99.000000      62.000000       0.000000    0.000000   \n",
              "50%       3.000000  117.000000      72.000000      23.000000   30.500000   \n",
              "75%       6.000000  140.250000      80.000000      32.000000  127.250000   \n",
              "max      17.000000  199.000000     122.000000      99.000000  846.000000   \n",
              "\n",
              "              bmi  diabetespedigreefunction         age     outcome  \n",
              "count  768.000000                768.000000  768.000000  768.000000  \n",
              "mean    31.992578                  0.471876   33.240885    0.348958  \n",
              "std      7.884160                  0.331329   11.760232    0.476951  \n",
              "min      0.000000                  0.078000   21.000000    0.000000  \n",
              "25%     27.300000                  0.243750   24.000000    0.000000  \n",
              "50%     32.000000                  0.372500   29.000000    0.000000  \n",
              "75%     36.600000                  0.626250   41.000000    1.000000  \n",
              "max     67.100000                  2.420000   81.000000    1.000000  "
            ],
            "text/html": [
              "\n",
              "  <div id=\"df-3ebf7147-d48c-47b2-8ed4-7ac92a2655d9\">\n",
              "    <div class=\"colab-df-container\">\n",
              "      <div>\n",
              "<style scoped>\n",
              "    .dataframe tbody tr th:only-of-type {\n",
              "        vertical-align: middle;\n",
              "    }\n",
              "\n",
              "    .dataframe tbody tr th {\n",
              "        vertical-align: top;\n",
              "    }\n",
              "\n",
              "    .dataframe thead th {\n",
              "        text-align: right;\n",
              "    }\n",
              "</style>\n",
              "<table border=\"1\" class=\"dataframe\">\n",
              "  <thead>\n",
              "    <tr style=\"text-align: right;\">\n",
              "      <th></th>\n",
              "      <th>pregnancies</th>\n",
              "      <th>glucose</th>\n",
              "      <th>bloodpressure</th>\n",
              "      <th>skinthickness</th>\n",
              "      <th>insulin</th>\n",
              "      <th>bmi</th>\n",
              "      <th>diabetespedigreefunction</th>\n",
              "      <th>age</th>\n",
              "      <th>outcome</th>\n",
              "    </tr>\n",
              "  </thead>\n",
              "  <tbody>\n",
              "    <tr>\n",
              "      <th>count</th>\n",
              "      <td>768.000000</td>\n",
              "      <td>768.000000</td>\n",
              "      <td>768.000000</td>\n",
              "      <td>768.000000</td>\n",
              "      <td>768.000000</td>\n",
              "      <td>768.000000</td>\n",
              "      <td>768.000000</td>\n",
              "      <td>768.000000</td>\n",
              "      <td>768.000000</td>\n",
              "    </tr>\n",
              "    <tr>\n",
              "      <th>mean</th>\n",
              "      <td>3.845052</td>\n",
              "      <td>120.894531</td>\n",
              "      <td>69.105469</td>\n",
              "      <td>20.536458</td>\n",
              "      <td>79.799479</td>\n",
              "      <td>31.992578</td>\n",
              "      <td>0.471876</td>\n",
              "      <td>33.240885</td>\n",
              "      <td>0.348958</td>\n",
              "    </tr>\n",
              "    <tr>\n",
              "      <th>std</th>\n",
              "      <td>3.369578</td>\n",
              "      <td>31.972618</td>\n",
              "      <td>19.355807</td>\n",
              "      <td>15.952218</td>\n",
              "      <td>115.244002</td>\n",
              "      <td>7.884160</td>\n",
              "      <td>0.331329</td>\n",
              "      <td>11.760232</td>\n",
              "      <td>0.476951</td>\n",
              "    </tr>\n",
              "    <tr>\n",
              "      <th>min</th>\n",
              "      <td>0.000000</td>\n",
              "      <td>0.000000</td>\n",
              "      <td>0.000000</td>\n",
              "      <td>0.000000</td>\n",
              "      <td>0.000000</td>\n",
              "      <td>0.000000</td>\n",
              "      <td>0.078000</td>\n",
              "      <td>21.000000</td>\n",
              "      <td>0.000000</td>\n",
              "    </tr>\n",
              "    <tr>\n",
              "      <th>25%</th>\n",
              "      <td>1.000000</td>\n",
              "      <td>99.000000</td>\n",
              "      <td>62.000000</td>\n",
              "      <td>0.000000</td>\n",
              "      <td>0.000000</td>\n",
              "      <td>27.300000</td>\n",
              "      <td>0.243750</td>\n",
              "      <td>24.000000</td>\n",
              "      <td>0.000000</td>\n",
              "    </tr>\n",
              "    <tr>\n",
              "      <th>50%</th>\n",
              "      <td>3.000000</td>\n",
              "      <td>117.000000</td>\n",
              "      <td>72.000000</td>\n",
              "      <td>23.000000</td>\n",
              "      <td>30.500000</td>\n",
              "      <td>32.000000</td>\n",
              "      <td>0.372500</td>\n",
              "      <td>29.000000</td>\n",
              "      <td>0.000000</td>\n",
              "    </tr>\n",
              "    <tr>\n",
              "      <th>75%</th>\n",
              "      <td>6.000000</td>\n",
              "      <td>140.250000</td>\n",
              "      <td>80.000000</td>\n",
              "      <td>32.000000</td>\n",
              "      <td>127.250000</td>\n",
              "      <td>36.600000</td>\n",
              "      <td>0.626250</td>\n",
              "      <td>41.000000</td>\n",
              "      <td>1.000000</td>\n",
              "    </tr>\n",
              "    <tr>\n",
              "      <th>max</th>\n",
              "      <td>17.000000</td>\n",
              "      <td>199.000000</td>\n",
              "      <td>122.000000</td>\n",
              "      <td>99.000000</td>\n",
              "      <td>846.000000</td>\n",
              "      <td>67.100000</td>\n",
              "      <td>2.420000</td>\n",
              "      <td>81.000000</td>\n",
              "      <td>1.000000</td>\n",
              "    </tr>\n",
              "  </tbody>\n",
              "</table>\n",
              "</div>\n",
              "      <button class=\"colab-df-convert\" onclick=\"convertToInteractive('df-3ebf7147-d48c-47b2-8ed4-7ac92a2655d9')\"\n",
              "              title=\"Convert this dataframe to an interactive table.\"\n",
              "              style=\"display:none;\">\n",
              "        \n",
              "  <svg xmlns=\"http://www.w3.org/2000/svg\" height=\"24px\"viewBox=\"0 0 24 24\"\n",
              "       width=\"24px\">\n",
              "    <path d=\"M0 0h24v24H0V0z\" fill=\"none\"/>\n",
              "    <path d=\"M18.56 5.44l.94 2.06.94-2.06 2.06-.94-2.06-.94-.94-2.06-.94 2.06-2.06.94zm-11 1L8.5 8.5l.94-2.06 2.06-.94-2.06-.94L8.5 2.5l-.94 2.06-2.06.94zm10 10l.94 2.06.94-2.06 2.06-.94-2.06-.94-.94-2.06-.94 2.06-2.06.94z\"/><path d=\"M17.41 7.96l-1.37-1.37c-.4-.4-.92-.59-1.43-.59-.52 0-1.04.2-1.43.59L10.3 9.45l-7.72 7.72c-.78.78-.78 2.05 0 2.83L4 21.41c.39.39.9.59 1.41.59.51 0 1.02-.2 1.41-.59l7.78-7.78 2.81-2.81c.8-.78.8-2.07 0-2.86zM5.41 20L4 18.59l7.72-7.72 1.47 1.35L5.41 20z\"/>\n",
              "  </svg>\n",
              "      </button>\n",
              "      \n",
              "  <style>\n",
              "    .colab-df-container {\n",
              "      display:flex;\n",
              "      flex-wrap:wrap;\n",
              "      gap: 12px;\n",
              "    }\n",
              "\n",
              "    .colab-df-convert {\n",
              "      background-color: #E8F0FE;\n",
              "      border: none;\n",
              "      border-radius: 50%;\n",
              "      cursor: pointer;\n",
              "      display: none;\n",
              "      fill: #1967D2;\n",
              "      height: 32px;\n",
              "      padding: 0 0 0 0;\n",
              "      width: 32px;\n",
              "    }\n",
              "\n",
              "    .colab-df-convert:hover {\n",
              "      background-color: #E2EBFA;\n",
              "      box-shadow: 0px 1px 2px rgba(60, 64, 67, 0.3), 0px 1px 3px 1px rgba(60, 64, 67, 0.15);\n",
              "      fill: #174EA6;\n",
              "    }\n",
              "\n",
              "    [theme=dark] .colab-df-convert {\n",
              "      background-color: #3B4455;\n",
              "      fill: #D2E3FC;\n",
              "    }\n",
              "\n",
              "    [theme=dark] .colab-df-convert:hover {\n",
              "      background-color: #434B5C;\n",
              "      box-shadow: 0px 1px 3px 1px rgba(0, 0, 0, 0.15);\n",
              "      filter: drop-shadow(0px 1px 2px rgba(0, 0, 0, 0.3));\n",
              "      fill: #FFFFFF;\n",
              "    }\n",
              "  </style>\n",
              "\n",
              "      <script>\n",
              "        const buttonEl =\n",
              "          document.querySelector('#df-3ebf7147-d48c-47b2-8ed4-7ac92a2655d9 button.colab-df-convert');\n",
              "        buttonEl.style.display =\n",
              "          google.colab.kernel.accessAllowed ? 'block' : 'none';\n",
              "\n",
              "        async function convertToInteractive(key) {\n",
              "          const element = document.querySelector('#df-3ebf7147-d48c-47b2-8ed4-7ac92a2655d9');\n",
              "          const dataTable =\n",
              "            await google.colab.kernel.invokeFunction('convertToInteractive',\n",
              "                                                     [key], {});\n",
              "          if (!dataTable) return;\n",
              "\n",
              "          const docLinkHtml = 'Like what you see? Visit the ' +\n",
              "            '<a target=\"_blank\" href=https://colab.research.google.com/notebooks/data_table.ipynb>data table notebook</a>'\n",
              "            + ' to learn more about interactive tables.';\n",
              "          element.innerHTML = '';\n",
              "          dataTable['output_type'] = 'display_data';\n",
              "          await google.colab.output.renderOutput(dataTable, element);\n",
              "          const docLink = document.createElement('div');\n",
              "          docLink.innerHTML = docLinkHtml;\n",
              "          element.appendChild(docLink);\n",
              "        }\n",
              "      </script>\n",
              "    </div>\n",
              "  </div>\n",
              "  "
            ]
          },
          "metadata": {},
          "execution_count": 28
        }
      ]
    },
    {
      "cell_type": "code",
      "source": [
        "# Checking if there is some null values or not\n",
        "df.isnull()"
      ],
      "metadata": {
        "colab": {
          "base_uri": "https://localhost:8080/",
          "height": 424
        },
        "id": "icaFrKPgl-oi",
        "outputId": "947393e6-7e04-45ac-e7c7-b18e06f55554"
      },
      "execution_count": null,
      "outputs": [
        {
          "output_type": "execute_result",
          "data": {
            "text/plain": [
              "     pregnancies  glucose  bloodpressure  skinthickness  insulin    bmi  \\\n",
              "0          False    False          False          False    False  False   \n",
              "1          False    False          False          False    False  False   \n",
              "2          False    False          False          False    False  False   \n",
              "3          False    False          False          False    False  False   \n",
              "4          False    False          False          False    False  False   \n",
              "..           ...      ...            ...            ...      ...    ...   \n",
              "763        False    False          False          False    False  False   \n",
              "764        False    False          False          False    False  False   \n",
              "765        False    False          False          False    False  False   \n",
              "766        False    False          False          False    False  False   \n",
              "767        False    False          False          False    False  False   \n",
              "\n",
              "     diabetespedigreefunction    age  outcome  \n",
              "0                       False  False    False  \n",
              "1                       False  False    False  \n",
              "2                       False  False    False  \n",
              "3                       False  False    False  \n",
              "4                       False  False    False  \n",
              "..                        ...    ...      ...  \n",
              "763                     False  False    False  \n",
              "764                     False  False    False  \n",
              "765                     False  False    False  \n",
              "766                     False  False    False  \n",
              "767                     False  False    False  \n",
              "\n",
              "[768 rows x 9 columns]"
            ],
            "text/html": [
              "\n",
              "  <div id=\"df-64222622-5228-4182-a409-baa44991aca7\">\n",
              "    <div class=\"colab-df-container\">\n",
              "      <div>\n",
              "<style scoped>\n",
              "    .dataframe tbody tr th:only-of-type {\n",
              "        vertical-align: middle;\n",
              "    }\n",
              "\n",
              "    .dataframe tbody tr th {\n",
              "        vertical-align: top;\n",
              "    }\n",
              "\n",
              "    .dataframe thead th {\n",
              "        text-align: right;\n",
              "    }\n",
              "</style>\n",
              "<table border=\"1\" class=\"dataframe\">\n",
              "  <thead>\n",
              "    <tr style=\"text-align: right;\">\n",
              "      <th></th>\n",
              "      <th>pregnancies</th>\n",
              "      <th>glucose</th>\n",
              "      <th>bloodpressure</th>\n",
              "      <th>skinthickness</th>\n",
              "      <th>insulin</th>\n",
              "      <th>bmi</th>\n",
              "      <th>diabetespedigreefunction</th>\n",
              "      <th>age</th>\n",
              "      <th>outcome</th>\n",
              "    </tr>\n",
              "  </thead>\n",
              "  <tbody>\n",
              "    <tr>\n",
              "      <th>0</th>\n",
              "      <td>False</td>\n",
              "      <td>False</td>\n",
              "      <td>False</td>\n",
              "      <td>False</td>\n",
              "      <td>False</td>\n",
              "      <td>False</td>\n",
              "      <td>False</td>\n",
              "      <td>False</td>\n",
              "      <td>False</td>\n",
              "    </tr>\n",
              "    <tr>\n",
              "      <th>1</th>\n",
              "      <td>False</td>\n",
              "      <td>False</td>\n",
              "      <td>False</td>\n",
              "      <td>False</td>\n",
              "      <td>False</td>\n",
              "      <td>False</td>\n",
              "      <td>False</td>\n",
              "      <td>False</td>\n",
              "      <td>False</td>\n",
              "    </tr>\n",
              "    <tr>\n",
              "      <th>2</th>\n",
              "      <td>False</td>\n",
              "      <td>False</td>\n",
              "      <td>False</td>\n",
              "      <td>False</td>\n",
              "      <td>False</td>\n",
              "      <td>False</td>\n",
              "      <td>False</td>\n",
              "      <td>False</td>\n",
              "      <td>False</td>\n",
              "    </tr>\n",
              "    <tr>\n",
              "      <th>3</th>\n",
              "      <td>False</td>\n",
              "      <td>False</td>\n",
              "      <td>False</td>\n",
              "      <td>False</td>\n",
              "      <td>False</td>\n",
              "      <td>False</td>\n",
              "      <td>False</td>\n",
              "      <td>False</td>\n",
              "      <td>False</td>\n",
              "    </tr>\n",
              "    <tr>\n",
              "      <th>4</th>\n",
              "      <td>False</td>\n",
              "      <td>False</td>\n",
              "      <td>False</td>\n",
              "      <td>False</td>\n",
              "      <td>False</td>\n",
              "      <td>False</td>\n",
              "      <td>False</td>\n",
              "      <td>False</td>\n",
              "      <td>False</td>\n",
              "    </tr>\n",
              "    <tr>\n",
              "      <th>...</th>\n",
              "      <td>...</td>\n",
              "      <td>...</td>\n",
              "      <td>...</td>\n",
              "      <td>...</td>\n",
              "      <td>...</td>\n",
              "      <td>...</td>\n",
              "      <td>...</td>\n",
              "      <td>...</td>\n",
              "      <td>...</td>\n",
              "    </tr>\n",
              "    <tr>\n",
              "      <th>763</th>\n",
              "      <td>False</td>\n",
              "      <td>False</td>\n",
              "      <td>False</td>\n",
              "      <td>False</td>\n",
              "      <td>False</td>\n",
              "      <td>False</td>\n",
              "      <td>False</td>\n",
              "      <td>False</td>\n",
              "      <td>False</td>\n",
              "    </tr>\n",
              "    <tr>\n",
              "      <th>764</th>\n",
              "      <td>False</td>\n",
              "      <td>False</td>\n",
              "      <td>False</td>\n",
              "      <td>False</td>\n",
              "      <td>False</td>\n",
              "      <td>False</td>\n",
              "      <td>False</td>\n",
              "      <td>False</td>\n",
              "      <td>False</td>\n",
              "    </tr>\n",
              "    <tr>\n",
              "      <th>765</th>\n",
              "      <td>False</td>\n",
              "      <td>False</td>\n",
              "      <td>False</td>\n",
              "      <td>False</td>\n",
              "      <td>False</td>\n",
              "      <td>False</td>\n",
              "      <td>False</td>\n",
              "      <td>False</td>\n",
              "      <td>False</td>\n",
              "    </tr>\n",
              "    <tr>\n",
              "      <th>766</th>\n",
              "      <td>False</td>\n",
              "      <td>False</td>\n",
              "      <td>False</td>\n",
              "      <td>False</td>\n",
              "      <td>False</td>\n",
              "      <td>False</td>\n",
              "      <td>False</td>\n",
              "      <td>False</td>\n",
              "      <td>False</td>\n",
              "    </tr>\n",
              "    <tr>\n",
              "      <th>767</th>\n",
              "      <td>False</td>\n",
              "      <td>False</td>\n",
              "      <td>False</td>\n",
              "      <td>False</td>\n",
              "      <td>False</td>\n",
              "      <td>False</td>\n",
              "      <td>False</td>\n",
              "      <td>False</td>\n",
              "      <td>False</td>\n",
              "    </tr>\n",
              "  </tbody>\n",
              "</table>\n",
              "<p>768 rows × 9 columns</p>\n",
              "</div>\n",
              "      <button class=\"colab-df-convert\" onclick=\"convertToInteractive('df-64222622-5228-4182-a409-baa44991aca7')\"\n",
              "              title=\"Convert this dataframe to an interactive table.\"\n",
              "              style=\"display:none;\">\n",
              "        \n",
              "  <svg xmlns=\"http://www.w3.org/2000/svg\" height=\"24px\"viewBox=\"0 0 24 24\"\n",
              "       width=\"24px\">\n",
              "    <path d=\"M0 0h24v24H0V0z\" fill=\"none\"/>\n",
              "    <path d=\"M18.56 5.44l.94 2.06.94-2.06 2.06-.94-2.06-.94-.94-2.06-.94 2.06-2.06.94zm-11 1L8.5 8.5l.94-2.06 2.06-.94-2.06-.94L8.5 2.5l-.94 2.06-2.06.94zm10 10l.94 2.06.94-2.06 2.06-.94-2.06-.94-.94-2.06-.94 2.06-2.06.94z\"/><path d=\"M17.41 7.96l-1.37-1.37c-.4-.4-.92-.59-1.43-.59-.52 0-1.04.2-1.43.59L10.3 9.45l-7.72 7.72c-.78.78-.78 2.05 0 2.83L4 21.41c.39.39.9.59 1.41.59.51 0 1.02-.2 1.41-.59l7.78-7.78 2.81-2.81c.8-.78.8-2.07 0-2.86zM5.41 20L4 18.59l7.72-7.72 1.47 1.35L5.41 20z\"/>\n",
              "  </svg>\n",
              "      </button>\n",
              "      \n",
              "  <style>\n",
              "    .colab-df-container {\n",
              "      display:flex;\n",
              "      flex-wrap:wrap;\n",
              "      gap: 12px;\n",
              "    }\n",
              "\n",
              "    .colab-df-convert {\n",
              "      background-color: #E8F0FE;\n",
              "      border: none;\n",
              "      border-radius: 50%;\n",
              "      cursor: pointer;\n",
              "      display: none;\n",
              "      fill: #1967D2;\n",
              "      height: 32px;\n",
              "      padding: 0 0 0 0;\n",
              "      width: 32px;\n",
              "    }\n",
              "\n",
              "    .colab-df-convert:hover {\n",
              "      background-color: #E2EBFA;\n",
              "      box-shadow: 0px 1px 2px rgba(60, 64, 67, 0.3), 0px 1px 3px 1px rgba(60, 64, 67, 0.15);\n",
              "      fill: #174EA6;\n",
              "    }\n",
              "\n",
              "    [theme=dark] .colab-df-convert {\n",
              "      background-color: #3B4455;\n",
              "      fill: #D2E3FC;\n",
              "    }\n",
              "\n",
              "    [theme=dark] .colab-df-convert:hover {\n",
              "      background-color: #434B5C;\n",
              "      box-shadow: 0px 1px 3px 1px rgba(0, 0, 0, 0.15);\n",
              "      filter: drop-shadow(0px 1px 2px rgba(0, 0, 0, 0.3));\n",
              "      fill: #FFFFFF;\n",
              "    }\n",
              "  </style>\n",
              "\n",
              "      <script>\n",
              "        const buttonEl =\n",
              "          document.querySelector('#df-64222622-5228-4182-a409-baa44991aca7 button.colab-df-convert');\n",
              "        buttonEl.style.display =\n",
              "          google.colab.kernel.accessAllowed ? 'block' : 'none';\n",
              "\n",
              "        async function convertToInteractive(key) {\n",
              "          const element = document.querySelector('#df-64222622-5228-4182-a409-baa44991aca7');\n",
              "          const dataTable =\n",
              "            await google.colab.kernel.invokeFunction('convertToInteractive',\n",
              "                                                     [key], {});\n",
              "          if (!dataTable) return;\n",
              "\n",
              "          const docLinkHtml = 'Like what you see? Visit the ' +\n",
              "            '<a target=\"_blank\" href=https://colab.research.google.com/notebooks/data_table.ipynb>data table notebook</a>'\n",
              "            + ' to learn more about interactive tables.';\n",
              "          element.innerHTML = '';\n",
              "          dataTable['output_type'] = 'display_data';\n",
              "          await google.colab.output.renderOutput(dataTable, element);\n",
              "          const docLink = document.createElement('div');\n",
              "          docLink.innerHTML = docLinkHtml;\n",
              "          element.appendChild(docLink);\n",
              "        }\n",
              "      </script>\n",
              "    </div>\n",
              "  </div>\n",
              "  "
            ]
          },
          "metadata": {},
          "execution_count": 29
        }
      ]
    },
    {
      "cell_type": "markdown",
      "source": [
        "# **Data Visualization:**"
      ],
      "metadata": {
        "id": "antsvCVqmu4d"
      }
    },
    {
      "cell_type": "code",
      "source": [
        "# Plotting the data distribution plots\n",
        "p = df.hist(figsize = (20,20))"
      ],
      "metadata": {
        "colab": {
          "base_uri": "https://localhost:8080/",
          "height": 1000
        },
        "id": "Wc1jqBQxmPci",
        "outputId": "6095a522-3145-49b5-c911-a5937c473cb0"
      },
      "execution_count": null,
      "outputs": [
        {
          "output_type": "display_data",
          "data": {
            "text/plain": [
              "<Figure size 1440x1440 with 9 Axes>"
            ],
            "image/png": "[encoded data removed]"
          },
          "metadata": {
            "needs_background": "light"
          }
        }
      ]
    },
    {
      "cell_type": "code",
      "source": [
        "import seaborn as sns\n",
        "\n",
        "# Correlstion between all the features before cleaning\n",
        "plt.figure(figsize=(13,11))\n",
        "p = sns.heatmap(df.corr(), annot=True,cmap ='Accent_r') "
      ],
      "metadata": {
        "colab": {
          "base_uri": "https://localhost:8080/",
          "height": 768
        },
        "id": "oSmIQ8qjmiN_",
        "outputId": "60835e2b-0f43-49d4-f0b0-3a964f9025d1"
      },
      "execution_count": null,
      "outputs": [
        {
          "output_type": "display_data",
          "data": {
            "text/plain": [
              "<Figure size 936x792 with 2 Axes>"
            ],
            "image/png": "[encoded data removed]"
          },
          "metadata": {
            "needs_background": "light"
          }
        }
      ]
    },
    {
      "cell_type": "markdown",
      "source": [
        "# **Scaling the data:**"
      ],
      "metadata": {
        "id": "mV1FGCJh-ABY"
      }
    },
    {
      "cell_type": "code",
      "source": [
        "from sklearn.preprocessing import StandardScaler\n",
        "sc_X = StandardScaler()\n",
        "X =  pd.DataFrame(sc_X.fit_transform(df.drop([\"outcome\"],axis = 1)), columns=['Pregnancies', 'Glucose', 'BloodPressure', 'SkinThickness', 'Insulin', 'BMI', 'DiabetesPedigreeFunction', 'Age'])\n",
        "X.head()"
      ],
      "metadata": {
        "colab": {
          "base_uri": "https://localhost:8080/",
          "height": 206
        },
        "id": "BZKxVrAPoJSP",
        "outputId": "2f7f75c3-d163-4565-e14d-addbd64f36b1"
      },
      "execution_count": null,
      "outputs": [
        {
          "output_type": "execute_result",
          "data": {
            "text/plain": [
              "   Pregnancies   Glucose  BloodPressure  SkinThickness   Insulin       BMI  \\\n",
              "0     0.639947  0.848324       0.149641       0.907270 -0.692891  0.204013   \n",
              "1    -0.844885 -1.123396      -0.160546       0.530902 -0.692891 -0.684422   \n",
              "2     1.233880  1.943724      -0.263941      -1.288212 -0.692891 -1.103255   \n",
              "3    -0.844885 -0.998208      -0.160546       0.154533  0.123302 -0.494043   \n",
              "4    -1.141852  0.504055      -1.504687       0.907270  0.765836  1.409746   \n",
              "\n",
              "   DiabetesPedigreeFunction       Age  \n",
              "0                  0.468492  1.425995  \n",
              "1                 -0.365061 -0.190672  \n",
              "2                  0.604397 -0.105584  \n",
              "3                 -0.920763 -1.041549  \n",
              "4                  5.484909 -0.020496  "
            ],
            "text/html": [
              "\n",
              "  <div id=\"df-4117cefb-9fe5-46cf-9f67-0bcdcff374ff\">\n",
              "    <div class=\"colab-df-container\">\n",
              "      <div>\n",
              "<style scoped>\n",
              "    .dataframe tbody tr th:only-of-type {\n",
              "        vertical-align: middle;\n",
              "    }\n",
              "\n",
              "    .dataframe tbody tr th {\n",
              "        vertical-align: top;\n",
              "    }\n",
              "\n",
              "    .dataframe thead th {\n",
              "        text-align: right;\n",
              "    }\n",
              "</style>\n",
              "<table border=\"1\" class=\"dataframe\">\n",
              "  <thead>\n",
              "    <tr style=\"text-align: right;\">\n",
              "      <th></th>\n",
              "      <th>Pregnancies</th>\n",
              "      <th>Glucose</th>\n",
              "      <th>BloodPressure</th>\n",
              "      <th>SkinThickness</th>\n",
              "      <th>Insulin</th>\n",
              "      <th>BMI</th>\n",
              "      <th>DiabetesPedigreeFunction</th>\n",
              "      <th>Age</th>\n",
              "    </tr>\n",
              "  </thead>\n",
              "  <tbody>\n",
              "    <tr>\n",
              "      <th>0</th>\n",
              "      <td>0.639947</td>\n",
              "      <td>0.848324</td>\n",
              "      <td>0.149641</td>\n",
              "      <td>0.907270</td>\n",
              "      <td>-0.692891</td>\n",
              "      <td>0.204013</td>\n",
              "      <td>0.468492</td>\n",
              "      <td>1.425995</td>\n",
              "    </tr>\n",
              "    <tr>\n",
              "      <th>1</th>\n",
              "      <td>-0.844885</td>\n",
              "      <td>-1.123396</td>\n",
              "      <td>-0.160546</td>\n",
              "      <td>0.530902</td>\n",
              "      <td>-0.692891</td>\n",
              "      <td>-0.684422</td>\n",
              "      <td>-0.365061</td>\n",
              "      <td>-0.190672</td>\n",
              "    </tr>\n",
              "    <tr>\n",
              "      <th>2</th>\n",
              "      <td>1.233880</td>\n",
              "      <td>1.943724</td>\n",
              "      <td>-0.263941</td>\n",
              "      <td>-1.288212</td>\n",
              "      <td>-0.692891</td>\n",
              "      <td>-1.103255</td>\n",
              "      <td>0.604397</td>\n",
              "      <td>-0.105584</td>\n",
              "    </tr>\n",
              "    <tr>\n",
              "      <th>3</th>\n",
              "      <td>-0.844885</td>\n",
              "      <td>-0.998208</td>\n",
              "      <td>-0.160546</td>\n",
              "      <td>0.154533</td>\n",
              "      <td>0.123302</td>\n",
              "      <td>-0.494043</td>\n",
              "      <td>-0.920763</td>\n",
              "      <td>-1.041549</td>\n",
              "    </tr>\n",
              "    <tr>\n",
              "      <th>4</th>\n",
              "      <td>-1.141852</td>\n",
              "      <td>0.504055</td>\n",
              "      <td>-1.504687</td>\n",
              "      <td>0.907270</td>\n",
              "      <td>0.765836</td>\n",
              "      <td>1.409746</td>\n",
              "      <td>5.484909</td>\n",
              "      <td>-0.020496</td>\n",
              "    </tr>\n",
              "  </tbody>\n",
              "</table>\n",
              "</div>\n",
              "      <button class=\"colab-df-convert\" onclick=\"convertToInteractive('df-4117cefb-9fe5-46cf-9f67-0bcdcff374ff')\"\n",
              "              title=\"Convert this dataframe to an interactive table.\"\n",
              "              style=\"display:none;\">\n",
              "        \n",
              "  <svg xmlns=\"http://www.w3.org/2000/svg\" height=\"24px\"viewBox=\"0 0 24 24\"\n",
              "       width=\"24px\">\n",
              "    <path d=\"M0 0h24v24H0V0z\" fill=\"none\"/>\n",
              "    <path d=\"M18.56 5.44l.94 2.06.94-2.06 2.06-.94-2.06-.94-.94-2.06-.94 2.06-2.06.94zm-11 1L8.5 8.5l.94-2.06 2.06-.94-2.06-.94L8.5 2.5l-.94 2.06-2.06.94zm10 10l.94 2.06.94-2.06 2.06-.94-2.06-.94-.94-2.06-.94 2.06-2.06.94z\"/><path d=\"M17.41 7.96l-1.37-1.37c-.4-.4-.92-.59-1.43-.59-.52 0-1.04.2-1.43.59L10.3 9.45l-7.72 7.72c-.78.78-.78 2.05 0 2.83L4 21.41c.39.39.9.59 1.41.59.51 0 1.02-.2 1.41-.59l7.78-7.78 2.81-2.81c.8-.78.8-2.07 0-2.86zM5.41 20L4 18.59l7.72-7.72 1.47 1.35L5.41 20z\"/>\n",
              "  </svg>\n",
              "      </button>\n",
              "      \n",
              "  <style>\n",
              "    .colab-df-container {\n",
              "      display:flex;\n",
              "      flex-wrap:wrap;\n",
              "      gap: 12px;\n",
              "    }\n",
              "\n",
              "    .colab-df-convert {\n",
              "      background-color: #E8F0FE;\n",
              "      border: none;\n",
              "      border-radius: 50%;\n",
              "      cursor: pointer;\n",
              "      display: none;\n",
              "      fill: #1967D2;\n",
              "      height: 32px;\n",
              "      padding: 0 0 0 0;\n",
              "      width: 32px;\n",
              "    }\n",
              "\n",
              "    .colab-df-convert:hover {\n",
              "      background-color: #E2EBFA;\n",
              "      box-shadow: 0px 1px 2px rgba(60, 64, 67, 0.3), 0px 1px 3px 1px rgba(60, 64, 67, 0.15);\n",
              "      fill: #174EA6;\n",
              "    }\n",
              "\n",
              "    [theme=dark] .colab-df-convert {\n",
              "      background-color: #3B4455;\n",
              "      fill: #D2E3FC;\n",
              "    }\n",
              "\n",
              "    [theme=dark] .colab-df-convert:hover {\n",
              "      background-color: #434B5C;\n",
              "      box-shadow: 0px 1px 3px 1px rgba(0, 0, 0, 0.15);\n",
              "      filter: drop-shadow(0px 1px 2px rgba(0, 0, 0, 0.3));\n",
              "      fill: #FFFFFF;\n",
              "    }\n",
              "  </style>\n",
              "\n",
              "      <script>\n",
              "        const buttonEl =\n",
              "          document.querySelector('#df-4117cefb-9fe5-46cf-9f67-0bcdcff374ff button.colab-df-convert');\n",
              "        buttonEl.style.display =\n",
              "          google.colab.kernel.accessAllowed ? 'block' : 'none';\n",
              "\n",
              "        async function convertToInteractive(key) {\n",
              "          const element = document.querySelector('#df-4117cefb-9fe5-46cf-9f67-0bcdcff374ff');\n",
              "          const dataTable =\n",
              "            await google.colab.kernel.invokeFunction('convertToInteractive',\n",
              "                                                     [key], {});\n",
              "          if (!dataTable) return;\n",
              "\n",
              "          const docLinkHtml = 'Like what you see? Visit the ' +\n",
              "            '<a target=\"_blank\" href=https://colab.research.google.com/notebooks/data_table.ipynb>data table notebook</a>'\n",
              "            + ' to learn more about interactive tables.';\n",
              "          element.innerHTML = '';\n",
              "          dataTable['output_type'] = 'display_data';\n",
              "          await google.colab.output.renderOutput(dataTable, element);\n",
              "          const docLink = document.createElement('div');\n",
              "          docLink.innerHTML = docLinkHtml;\n",
              "          element.appendChild(docLink);\n",
              "        }\n",
              "      </script>\n",
              "    </div>\n",
              "  </div>\n",
              "  "
            ]
          },
          "metadata": {},
          "execution_count": 47
        }
      ]
    },
    {
      "cell_type": "code",
      "source": [
        "y = df.outcome"
      ],
      "metadata": {
        "id": "YNkF3GhHruto"
      },
      "execution_count": null,
      "outputs": []
    },
    {
      "cell_type": "markdown",
      "source": [
        "# **Splitting the data into Train and Test**"
      ],
      "metadata": {
        "id": "GQzReOPa-Ook"
      }
    },
    {
      "cell_type": "code",
      "source": [
        "from sklearn.model_selection import train_test_split\n",
        "\n",
        "X_train,X_test,y_train,y_test = train_test_split(X,y,test_size=1/3,random_state=42, stratify=y)"
      ],
      "metadata": {
        "id": "--t5AKAf1YVc"
      },
      "execution_count": null,
      "outputs": []
    },
    {
      "cell_type": "markdown",
      "source": [
        "# **Model Building**\n",
        "**K-Nearest Neighbor (KNN)** "
      ],
      "metadata": {
        "id": "KyxJqfc1-d-6"
      }
    },
    {
      "cell_type": "code",
      "source": [
        "from sklearn.neighbors import KNeighborsClassifier\n",
        "\n",
        "test_scores = []\n",
        "train_scores = []\n",
        "\n",
        "for i in range(1,15):\n",
        "\n",
        "    knn = KNeighborsClassifier(i)\n",
        "    knn.fit(X_train,y_train)\n",
        "    \n",
        "    train_scores.append(knn.score(X_train,y_train))\n",
        "    test_scores.append(knn.score(X_test,y_test))"
      ],
      "metadata": {
        "id": "DJV1vk8C1vsw"
      },
      "execution_count": null,
      "outputs": []
    },
    {
      "cell_type": "code",
      "source": [
        "max_train_score = max(train_scores)\n",
        "train_scores_ind = [i for i, v in enumerate(train_scores) if v == max_train_score]\n",
        "print('Max train score {} % and k = {}'.format(max_train_score*100,list(map(lambda x: x+1, train_scores_ind))))"
      ],
      "metadata": {
        "colab": {
          "base_uri": "https://localhost:8080/"
        },
        "id": "JvulrJ-e18Ga",
        "outputId": "3cb39a8c-1d7f-41ae-be01-880ec7814ede"
      },
      "execution_count": null,
      "outputs": [
        {
          "output_type": "stream",
          "name": "stdout",
          "text": [
            "Max train score 100.0 % and k = [1]\n"
          ]
        }
      ]
    },
    {
      "cell_type": "code",
      "source": [
        "max_test_score = max(test_scores)\n",
        "test_scores_ind = [i for i, v in enumerate(test_scores) if v == max_test_score]\n",
        "print('Max test score {} % and k = {}'.format(max_test_score*100,list(map(lambda x: x+1, test_scores_ind))))"
      ],
      "metadata": {
        "colab": {
          "base_uri": "https://localhost:8080/"
        },
        "id": "KClBYyEE2OS8",
        "outputId": "4d628a53-addf-429a-9760-578d4ff40cf0"
      },
      "execution_count": null,
      "outputs": [
        {
          "output_type": "stream",
          "name": "stdout",
          "text": [
            "Max test score 76.953125 % and k = [11]\n"
          ]
        }
      ]
    },
    {
      "cell_type": "code",
      "source": [
        "plt.figure(figsize=(12,5))\n",
        "p = sns.lineplot(range(1,15),train_scores,marker='*',label='Train Score')\n",
        "p = sns.lineplot(range(1,15),test_scores,marker='o',label='Test Score')"
      ],
      "metadata": {
        "colab": {
          "base_uri": "https://localhost:8080/",
          "height": 409
        },
        "id": "9aKzj4mD2TPo",
        "outputId": "8e9cc633-fa8b-470f-cac6-d55943d619a5"
      },
      "execution_count": null,
      "outputs": [
        {
          "output_type": "stream",
          "name": "stderr",
          "text": [
            "/usr/local/lib/python3.7/dist-packages/seaborn/_decorators.py:43: FutureWarning: Pass the following variables as keyword args: x, y. From version 0.12, the only valid positional argument will be `data`, and passing other arguments without an explicit keyword will result in an error or misinterpretation.\n",
            "  FutureWarning\n",
            "/usr/local/lib/python3.7/dist-packages/seaborn/_decorators.py:43: FutureWarning: Pass the following variables as keyword args: x, y. From version 0.12, the only valid positional argument will be `data`, and passing other arguments without an explicit keyword will result in an error or misinterpretation.\n",
            "  FutureWarning\n"
          ]
        },
        {
          "output_type": "display_data",
          "data": {
            "text/plain": [
              "<Figure size 864x360 with 1 Axes>"
            ],
            "image/png": "[encoded data removed]"
          },
          "metadata": {
            "needs_background": "light"
          }
        }
      ]
    },
    {
      "cell_type": "code",
      "source": [
        "knn = KNeighborsClassifier(11)\n",
        "knn.fit(X_train,y_train)\n",
        "knn.score(X_test,y_test)"
      ],
      "metadata": {
        "colab": {
          "base_uri": "https://localhost:8080/"
        },
        "id": "RM-aSd0E2Znv",
        "outputId": "7cebbd62-9621-4d07-b006-a3ee65d0c46c"
      },
      "execution_count": null,
      "outputs": [
        {
          "output_type": "execute_result",
          "data": {
            "text/plain": [
              "0.76953125"
            ]
          },
          "metadata": {},
          "execution_count": 57
        }
      ]
    },
    {
      "cell_type": "code",
      "source": [
        "from mlxtend.plotting import plot_decision_regions\n",
        "\n",
        "value = 20000\n",
        "width = 20000\n",
        "plot_decision_regions(X.values, y.values, clf=knn, legend=2, \n",
        "                      filler_feature_values={2: value, 3: value, 4: value, 5: value, 6: value, 7: value},\n",
        "                      filler_feature_ranges={2: width, 3: width, 4: width, 5: width, 6: width, 7: width},\n",
        "                      X_highlight=X_test.values)\n",
        "\n",
        "plt.title('KNN with Diabetes Data')\n",
        "plt.show()"
      ],
      "metadata": {
        "colab": {
          "base_uri": "https://localhost:8080/",
          "height": 420
        },
        "id": "O6Nb7jP52fZI",
        "outputId": "8852861a-6173-4a77-901f-6dfab5010b22"
      },
      "execution_count": null,
      "outputs": [
        {
          "output_type": "stream",
          "name": "stderr",
          "text": [
            "/usr/local/lib/python3.7/dist-packages/sklearn/base.py:451: UserWarning: X does not have valid feature names, but KNeighborsClassifier was fitted with feature names\n",
            "  \"X does not have valid feature names, but\"\n",
            "/usr/local/lib/python3.7/dist-packages/mlxtend/plotting/decision_regions.py:242: UserWarning: No contour levels were found within the data range.\n",
            "  antialiased=True)\n",
            "/usr/local/lib/python3.7/dist-packages/mlxtend/plotting/decision_regions.py:244: MatplotlibDeprecationWarning: Passing unsupported keyword arguments to axis() will raise a TypeError in 3.3.\n",
            "  ax.axis(xmin=xx.min(), xmax=xx.max(), y_min=yy.min(), y_max=yy.max())\n",
            "/usr/local/lib/python3.7/dist-packages/mlxtend/plotting/decision_regions.py:313: MatplotlibDeprecationWarning: Using a string of single character colors as a color sequence is deprecated. Use an explicit list instead.\n",
            "  **scatter_highlight_kwargs)\n"
          ]
        },
        {
          "output_type": "display_data",
          "data": {
            "text/plain": [
              "<Figure size 432x288 with 1 Axes>"
            ],
            "image/png": "[encoded data removed]"
          },
          "metadata": {
            "needs_background": "light"
          }
        }
      ]
    },
    {
      "cell_type": "markdown",
      "source": [
        "# **Confusion Matrix:**"
      ],
      "metadata": {
        "id": "u0HJLs73_DVc"
      }
    },
    {
      "cell_type": "code",
      "source": [
        "from sklearn.metrics import confusion_matrix\n",
        "from sklearn import metrics\n",
        "y_pred = knn.predict(X_test)\n",
        "\n",
        "cnf_matrix = metrics.confusion_matrix(y_test, y_pred)\n",
        "p = sns.heatmap(pd.DataFrame(cnf_matrix), annot=True, cmap=\"YlGnBu\" ,fmt='g')\n",
        "plt.title('Confusion matrix', y=1.1)\n",
        "plt.ylabel('Actual label')\n",
        "plt.xlabel('Predicted label')"
      ],
      "metadata": {
        "colab": {
          "base_uri": "https://localhost:8080/",
          "height": 312
        },
        "id": "PJVDUnKo2kYa",
        "outputId": "c2a5ba10-d33c-4afc-cee0-1b1cd419007b"
      },
      "execution_count": null,
      "outputs": [
        {
          "output_type": "execute_result",
          "data": {
            "text/plain": [
              "Text(0.5, 15.0, 'Predicted label')"
            ]
          },
          "metadata": {},
          "execution_count": 61
        },
        {
          "output_type": "display_data",
          "data": {
            "text/plain": [
              "<Figure size 432x288 with 2 Axes>"
            ],
            "image/png": "[encoded data removed]"
          },
          "metadata": {
            "needs_background": "light"
          }
        }
      ]
    },
    {
      "cell_type": "code",
      "source": [
        "from sklearn.metrics import classification_report\n",
        "\n",
        "print(classification_report(y_test,y_pred))"
      ],
      "metadata": {
        "colab": {
          "base_uri": "https://localhost:8080/"
        },
        "id": "cHt1wlKM2wp_",
        "outputId": "1e5a83dd-6ad0-4efe-b07d-664c14caba1b"
      },
      "execution_count": null,
      "outputs": [
        {
          "output_type": "stream",
          "name": "stdout",
          "text": [
            "              precision    recall  f1-score   support\n",
            "\n",
            "           0       0.79      0.88      0.83       167\n",
            "           1       0.71      0.56      0.63        89\n",
            "\n",
            "    accuracy                           0.77       256\n",
            "   macro avg       0.75      0.72      0.73       256\n",
            "weighted avg       0.76      0.77      0.76       256\n",
            "\n"
          ]
        }
      ]
    },
    {
      "cell_type": "markdown",
      "source": [
        "# **ROC-AUC Curve:**"
      ],
      "metadata": {
        "id": "P9Ahx7yF_Yei"
      }
    },
    {
      "cell_type": "code",
      "source": [
        "from sklearn.metrics import roc_curve\n",
        "\n",
        "y_pred_proba = knn.predict_proba(X_test)[:,1]\n",
        "fpr, tpr, thresholds = roc_curve(y_test, y_pred_proba)"
      ],
      "metadata": {
        "id": "JiFxW-Vk40Ty"
      },
      "execution_count": null,
      "outputs": []
    },
    {
      "cell_type": "code",
      "source": [
        "plt.plot([0,1],[0,1],'k--')\n",
        "plt.plot(fpr,tpr, label='Knn')\n",
        "plt.xlabel('fpr')\n",
        "plt.ylabel('tpr')\n",
        "plt.title('Knn(n_neighbors=11) ROC curve')\n",
        "plt.show()"
      ],
      "metadata": {
        "colab": {
          "base_uri": "https://localhost:8080/",
          "height": 295
        },
        "id": "CmAqchCw5LSB",
        "outputId": "86dffc71-a30e-47e9-cf2d-a97a244cdc59"
      },
      "execution_count": null,
      "outputs": [
        {
          "output_type": "display_data",
          "data": {
            "text/plain": [
              "<Figure size 432x288 with 1 Axes>"
            ],
            "image/png": "[encoded data removed]"
          },
          "metadata": {
            "needs_background": "light"
          }
        }
      ]
    },
    {
      "cell_type": "code",
      "source": [
        "from sklearn.metrics import roc_auc_score\n",
        "roc_auc_score(y_test,y_pred_proba)"
      ],
      "metadata": {
        "colab": {
          "base_uri": "https://localhost:8080/"
        },
        "id": "pPNrXSmp5dQm",
        "outputId": "96c2a099-ed29-4e15-99dd-6e55b9b3ee1b"
      },
      "execution_count": null,
      "outputs": [
        {
          "output_type": "execute_result",
          "data": {
            "text/plain": [
              "0.8119154948529905"
            ]
          },
          "metadata": {},
          "execution_count": 70
        }
      ]
    },
    {
      "cell_type": "markdown",
      "source": [
        "# **Implementing GridSearchCV:**"
      ],
      "metadata": {
        "id": "ANLqftPj_ksJ"
      }
    },
    {
      "cell_type": "code",
      "source": [
        "from sklearn.model_selection import GridSearchCV\n",
        "\n",
        "param_grid = {'n_neighbors':np.arange(1,50)}\n",
        "knn = KNeighborsClassifier()\n",
        "knn_cv= GridSearchCV(knn,param_grid,cv=5)\n",
        "knn_cv.fit(X,y)\n",
        "\n",
        "print(\"Best Score:\" + str(knn_cv.best_score_))\n",
        "print(\"Best Parameters: \" + str(knn_cv.best_params_))"
      ],
      "metadata": {
        "colab": {
          "base_uri": "https://localhost:8080/"
        },
        "id": "rVZitHjx5jHN",
        "outputId": "e57ac9e5-9e8c-4a30-8d4f-3cb056a67f50"
      },
      "execution_count": null,
      "outputs": [
        {
          "output_type": "stream",
          "name": "stdout",
          "text": [
            "Best Score:0.7669892199303965\n",
            "Best Parameters: {'n_neighbors': 17}\n"
          ]
        }
      ]
    },
    {
      "cell_type": "markdown",
      "source": [
        "![Thank you.jpg](data:image/jpeg;base64,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)"
      ],
      "metadata": {
        "id": "oNwsBTprAC_x"
      }
    },
    {
      "cell_type": "markdown",
      "source": [
        "# **PRESENTED_BY: MEGHA AHIRWAR.....**"
      ],
      "metadata": {
        "id": "3gzgKJz7Aa57"
      }
    },
    {
      "cell_type": "code",
      "source": [
        ""
      ],
      "metadata": {
        "id": "jUew-vAI5zio"
      },
      "execution_count": null,
      "outputs": []
    }
  ]
}